{
 "cells": [
  {
   "cell_type": "code",
   "execution_count": 1,
   "metadata": {},
   "outputs": [],
   "source": [
    "import pandas as pd\n",
    "from datetime import datetime\n",
    "from sklearn.ensemble import ExtraTreesRegressor\n",
    "import matplotlib.pyplot as plt\n",
    "from sklearn.model_selection import train_test_split,cross_val_score\n",
    "from sklearn.linear_model import LinearRegression\n",
    "from sklearn import metrics\n",
    "import pickle"
   ]
  },
  {
   "cell_type": "code",
   "execution_count": 2,
   "metadata": {},
   "outputs": [
    {
     "data": {
      "text/html": [
       "<div>\n",
       "<style scoped>\n",
       "    .dataframe tbody tr th:only-of-type {\n",
       "        vertical-align: middle;\n",
       "    }\n",
       "\n",
       "    .dataframe tbody tr th {\n",
       "        vertical-align: top;\n",
       "    }\n",
       "\n",
       "    .dataframe thead th {\n",
       "        text-align: right;\n",
       "    }\n",
       "</style>\n",
       "<table border=\"1\" class=\"dataframe\">\n",
       "  <thead>\n",
       "    <tr style=\"text-align: right;\">\n",
       "      <th></th>\n",
       "      <th>mid</th>\n",
       "      <th>date</th>\n",
       "      <th>venue</th>\n",
       "      <th>bat_team</th>\n",
       "      <th>bowl_team</th>\n",
       "      <th>batsman</th>\n",
       "      <th>bowler</th>\n",
       "      <th>runs</th>\n",
       "      <th>wickets</th>\n",
       "      <th>overs</th>\n",
       "      <th>runs_last_5</th>\n",
       "      <th>wickets_last_5</th>\n",
       "      <th>striker</th>\n",
       "      <th>non-striker</th>\n",
       "      <th>total</th>\n",
       "    </tr>\n",
       "  </thead>\n",
       "  <tbody>\n",
       "    <tr>\n",
       "      <td>0</td>\n",
       "      <td>1</td>\n",
       "      <td>2008-04-18</td>\n",
       "      <td>M Chinnaswamy Stadium</td>\n",
       "      <td>Kolkata Knight Riders</td>\n",
       "      <td>Royal Challengers Bangalore</td>\n",
       "      <td>SC Ganguly</td>\n",
       "      <td>P Kumar</td>\n",
       "      <td>1</td>\n",
       "      <td>0</td>\n",
       "      <td>0.1</td>\n",
       "      <td>1</td>\n",
       "      <td>0</td>\n",
       "      <td>0</td>\n",
       "      <td>0</td>\n",
       "      <td>222</td>\n",
       "    </tr>\n",
       "    <tr>\n",
       "      <td>1</td>\n",
       "      <td>1</td>\n",
       "      <td>2008-04-18</td>\n",
       "      <td>M Chinnaswamy Stadium</td>\n",
       "      <td>Kolkata Knight Riders</td>\n",
       "      <td>Royal Challengers Bangalore</td>\n",
       "      <td>BB McCullum</td>\n",
       "      <td>P Kumar</td>\n",
       "      <td>1</td>\n",
       "      <td>0</td>\n",
       "      <td>0.2</td>\n",
       "      <td>1</td>\n",
       "      <td>0</td>\n",
       "      <td>0</td>\n",
       "      <td>0</td>\n",
       "      <td>222</td>\n",
       "    </tr>\n",
       "    <tr>\n",
       "      <td>2</td>\n",
       "      <td>1</td>\n",
       "      <td>2008-04-18</td>\n",
       "      <td>M Chinnaswamy Stadium</td>\n",
       "      <td>Kolkata Knight Riders</td>\n",
       "      <td>Royal Challengers Bangalore</td>\n",
       "      <td>BB McCullum</td>\n",
       "      <td>P Kumar</td>\n",
       "      <td>2</td>\n",
       "      <td>0</td>\n",
       "      <td>0.2</td>\n",
       "      <td>2</td>\n",
       "      <td>0</td>\n",
       "      <td>0</td>\n",
       "      <td>0</td>\n",
       "      <td>222</td>\n",
       "    </tr>\n",
       "    <tr>\n",
       "      <td>3</td>\n",
       "      <td>1</td>\n",
       "      <td>2008-04-18</td>\n",
       "      <td>M Chinnaswamy Stadium</td>\n",
       "      <td>Kolkata Knight Riders</td>\n",
       "      <td>Royal Challengers Bangalore</td>\n",
       "      <td>BB McCullum</td>\n",
       "      <td>P Kumar</td>\n",
       "      <td>2</td>\n",
       "      <td>0</td>\n",
       "      <td>0.3</td>\n",
       "      <td>2</td>\n",
       "      <td>0</td>\n",
       "      <td>0</td>\n",
       "      <td>0</td>\n",
       "      <td>222</td>\n",
       "    </tr>\n",
       "    <tr>\n",
       "      <td>4</td>\n",
       "      <td>1</td>\n",
       "      <td>2008-04-18</td>\n",
       "      <td>M Chinnaswamy Stadium</td>\n",
       "      <td>Kolkata Knight Riders</td>\n",
       "      <td>Royal Challengers Bangalore</td>\n",
       "      <td>BB McCullum</td>\n",
       "      <td>P Kumar</td>\n",
       "      <td>2</td>\n",
       "      <td>0</td>\n",
       "      <td>0.4</td>\n",
       "      <td>2</td>\n",
       "      <td>0</td>\n",
       "      <td>0</td>\n",
       "      <td>0</td>\n",
       "      <td>222</td>\n",
       "    </tr>\n",
       "  </tbody>\n",
       "</table>\n",
       "</div>"
      ],
      "text/plain": [
       "   mid        date                  venue               bat_team  \\\n",
       "0    1  2008-04-18  M Chinnaswamy Stadium  Kolkata Knight Riders   \n",
       "1    1  2008-04-18  M Chinnaswamy Stadium  Kolkata Knight Riders   \n",
       "2    1  2008-04-18  M Chinnaswamy Stadium  Kolkata Knight Riders   \n",
       "3    1  2008-04-18  M Chinnaswamy Stadium  Kolkata Knight Riders   \n",
       "4    1  2008-04-18  M Chinnaswamy Stadium  Kolkata Knight Riders   \n",
       "\n",
       "                     bowl_team      batsman   bowler  runs  wickets  overs  \\\n",
       "0  Royal Challengers Bangalore   SC Ganguly  P Kumar     1        0    0.1   \n",
       "1  Royal Challengers Bangalore  BB McCullum  P Kumar     1        0    0.2   \n",
       "2  Royal Challengers Bangalore  BB McCullum  P Kumar     2        0    0.2   \n",
       "3  Royal Challengers Bangalore  BB McCullum  P Kumar     2        0    0.3   \n",
       "4  Royal Challengers Bangalore  BB McCullum  P Kumar     2        0    0.4   \n",
       "\n",
       "   runs_last_5  wickets_last_5  striker  non-striker  total  \n",
       "0            1               0        0            0    222  \n",
       "1            1               0        0            0    222  \n",
       "2            2               0        0            0    222  \n",
       "3            2               0        0            0    222  \n",
       "4            2               0        0            0    222  "
      ]
     },
     "execution_count": 2,
     "metadata": {},
     "output_type": "execute_result"
    }
   ],
   "source": [
    "df=pd.read_csv(\"ipl.csv\")\n",
    "df.head()"
   ]
  },
  {
   "cell_type": "code",
   "execution_count": 3,
   "metadata": {},
   "outputs": [
    {
     "data": {
      "text/plain": [
       "(76014, 15)"
      ]
     },
     "execution_count": 3,
     "metadata": {},
     "output_type": "execute_result"
    }
   ],
   "source": [
    "df.shape"
   ]
  },
  {
   "cell_type": "code",
   "execution_count": 4,
   "metadata": {},
   "outputs": [
    {
     "data": {
      "text/plain": [
       "mid               0\n",
       "date              0\n",
       "venue             0\n",
       "bat_team          0\n",
       "bowl_team         0\n",
       "batsman           0\n",
       "bowler            0\n",
       "runs              0\n",
       "wickets           0\n",
       "overs             0\n",
       "runs_last_5       0\n",
       "wickets_last_5    0\n",
       "striker           0\n",
       "non-striker       0\n",
       "total             0\n",
       "dtype: int64"
      ]
     },
     "execution_count": 4,
     "metadata": {},
     "output_type": "execute_result"
    }
   ],
   "source": [
    "df.isnull().sum()"
   ]
  },
  {
   "cell_type": "code",
   "execution_count": 5,
   "metadata": {},
   "outputs": [
    {
     "data": {
      "text/plain": [
       "mid               617\n",
       "date              442\n",
       "venue              35\n",
       "bat_team           14\n",
       "bowl_team          14\n",
       "batsman           411\n",
       "bowler            329\n",
       "runs              252\n",
       "wickets            11\n",
       "overs             140\n",
       "runs_last_5       102\n",
       "wickets_last_5      8\n",
       "striker           155\n",
       "non-striker        88\n",
       "total             138\n",
       "dtype: int64"
      ]
     },
     "execution_count": 5,
     "metadata": {},
     "output_type": "execute_result"
    }
   ],
   "source": [
    "df.nunique()"
   ]
  },
  {
   "cell_type": "code",
   "execution_count": 6,
   "metadata": {},
   "outputs": [
    {
     "data": {
      "text/html": [
       "<div>\n",
       "<style scoped>\n",
       "    .dataframe tbody tr th:only-of-type {\n",
       "        vertical-align: middle;\n",
       "    }\n",
       "\n",
       "    .dataframe tbody tr th {\n",
       "        vertical-align: top;\n",
       "    }\n",
       "\n",
       "    .dataframe thead th {\n",
       "        text-align: right;\n",
       "    }\n",
       "</style>\n",
       "<table border=\"1\" class=\"dataframe\">\n",
       "  <thead>\n",
       "    <tr style=\"text-align: right;\">\n",
       "      <th></th>\n",
       "      <th>date</th>\n",
       "      <th>venue</th>\n",
       "      <th>bat_team</th>\n",
       "      <th>bowl_team</th>\n",
       "      <th>batsman</th>\n",
       "      <th>bowler</th>\n",
       "    </tr>\n",
       "  </thead>\n",
       "  <tbody>\n",
       "    <tr>\n",
       "      <td>0</td>\n",
       "      <td>2008-04-18</td>\n",
       "      <td>M Chinnaswamy Stadium</td>\n",
       "      <td>Kolkata Knight Riders</td>\n",
       "      <td>Royal Challengers Bangalore</td>\n",
       "      <td>SC Ganguly</td>\n",
       "      <td>P Kumar</td>\n",
       "    </tr>\n",
       "    <tr>\n",
       "      <td>1</td>\n",
       "      <td>2008-04-18</td>\n",
       "      <td>M Chinnaswamy Stadium</td>\n",
       "      <td>Kolkata Knight Riders</td>\n",
       "      <td>Royal Challengers Bangalore</td>\n",
       "      <td>BB McCullum</td>\n",
       "      <td>P Kumar</td>\n",
       "    </tr>\n",
       "    <tr>\n",
       "      <td>2</td>\n",
       "      <td>2008-04-18</td>\n",
       "      <td>M Chinnaswamy Stadium</td>\n",
       "      <td>Kolkata Knight Riders</td>\n",
       "      <td>Royal Challengers Bangalore</td>\n",
       "      <td>BB McCullum</td>\n",
       "      <td>P Kumar</td>\n",
       "    </tr>\n",
       "    <tr>\n",
       "      <td>3</td>\n",
       "      <td>2008-04-18</td>\n",
       "      <td>M Chinnaswamy Stadium</td>\n",
       "      <td>Kolkata Knight Riders</td>\n",
       "      <td>Royal Challengers Bangalore</td>\n",
       "      <td>BB McCullum</td>\n",
       "      <td>P Kumar</td>\n",
       "    </tr>\n",
       "    <tr>\n",
       "      <td>4</td>\n",
       "      <td>2008-04-18</td>\n",
       "      <td>M Chinnaswamy Stadium</td>\n",
       "      <td>Kolkata Knight Riders</td>\n",
       "      <td>Royal Challengers Bangalore</td>\n",
       "      <td>BB McCullum</td>\n",
       "      <td>P Kumar</td>\n",
       "    </tr>\n",
       "  </tbody>\n",
       "</table>\n",
       "</div>"
      ],
      "text/plain": [
       "         date                  venue               bat_team  \\\n",
       "0  2008-04-18  M Chinnaswamy Stadium  Kolkata Knight Riders   \n",
       "1  2008-04-18  M Chinnaswamy Stadium  Kolkata Knight Riders   \n",
       "2  2008-04-18  M Chinnaswamy Stadium  Kolkata Knight Riders   \n",
       "3  2008-04-18  M Chinnaswamy Stadium  Kolkata Knight Riders   \n",
       "4  2008-04-18  M Chinnaswamy Stadium  Kolkata Knight Riders   \n",
       "\n",
       "                     bowl_team      batsman   bowler  \n",
       "0  Royal Challengers Bangalore   SC Ganguly  P Kumar  \n",
       "1  Royal Challengers Bangalore  BB McCullum  P Kumar  \n",
       "2  Royal Challengers Bangalore  BB McCullum  P Kumar  \n",
       "3  Royal Challengers Bangalore  BB McCullum  P Kumar  \n",
       "4  Royal Challengers Bangalore  BB McCullum  P Kumar  "
      ]
     },
     "execution_count": 6,
     "metadata": {},
     "output_type": "execute_result"
    }
   ],
   "source": [
    "#Categorical Columns\n",
    "cat_columns=df.select_dtypes(include='object')\n",
    "cat_columns.head()"
   ]
  },
  {
   "cell_type": "code",
   "execution_count": 7,
   "metadata": {},
   "outputs": [
    {
     "data": {
      "text/html": [
       "<div>\n",
       "<style scoped>\n",
       "    .dataframe tbody tr th:only-of-type {\n",
       "        vertical-align: middle;\n",
       "    }\n",
       "\n",
       "    .dataframe tbody tr th {\n",
       "        vertical-align: top;\n",
       "    }\n",
       "\n",
       "    .dataframe thead th {\n",
       "        text-align: right;\n",
       "    }\n",
       "</style>\n",
       "<table border=\"1\" class=\"dataframe\">\n",
       "  <thead>\n",
       "    <tr style=\"text-align: right;\">\n",
       "      <th></th>\n",
       "      <th>mid</th>\n",
       "      <th>runs</th>\n",
       "      <th>wickets</th>\n",
       "      <th>overs</th>\n",
       "      <th>runs_last_5</th>\n",
       "      <th>wickets_last_5</th>\n",
       "      <th>striker</th>\n",
       "      <th>non-striker</th>\n",
       "      <th>total</th>\n",
       "    </tr>\n",
       "  </thead>\n",
       "  <tbody>\n",
       "    <tr>\n",
       "      <td>0</td>\n",
       "      <td>1</td>\n",
       "      <td>1</td>\n",
       "      <td>0</td>\n",
       "      <td>0.1</td>\n",
       "      <td>1</td>\n",
       "      <td>0</td>\n",
       "      <td>0</td>\n",
       "      <td>0</td>\n",
       "      <td>222</td>\n",
       "    </tr>\n",
       "    <tr>\n",
       "      <td>1</td>\n",
       "      <td>1</td>\n",
       "      <td>1</td>\n",
       "      <td>0</td>\n",
       "      <td>0.2</td>\n",
       "      <td>1</td>\n",
       "      <td>0</td>\n",
       "      <td>0</td>\n",
       "      <td>0</td>\n",
       "      <td>222</td>\n",
       "    </tr>\n",
       "    <tr>\n",
       "      <td>2</td>\n",
       "      <td>1</td>\n",
       "      <td>2</td>\n",
       "      <td>0</td>\n",
       "      <td>0.2</td>\n",
       "      <td>2</td>\n",
       "      <td>0</td>\n",
       "      <td>0</td>\n",
       "      <td>0</td>\n",
       "      <td>222</td>\n",
       "    </tr>\n",
       "    <tr>\n",
       "      <td>3</td>\n",
       "      <td>1</td>\n",
       "      <td>2</td>\n",
       "      <td>0</td>\n",
       "      <td>0.3</td>\n",
       "      <td>2</td>\n",
       "      <td>0</td>\n",
       "      <td>0</td>\n",
       "      <td>0</td>\n",
       "      <td>222</td>\n",
       "    </tr>\n",
       "    <tr>\n",
       "      <td>4</td>\n",
       "      <td>1</td>\n",
       "      <td>2</td>\n",
       "      <td>0</td>\n",
       "      <td>0.4</td>\n",
       "      <td>2</td>\n",
       "      <td>0</td>\n",
       "      <td>0</td>\n",
       "      <td>0</td>\n",
       "      <td>222</td>\n",
       "    </tr>\n",
       "  </tbody>\n",
       "</table>\n",
       "</div>"
      ],
      "text/plain": [
       "   mid  runs  wickets  overs  runs_last_5  wickets_last_5  striker  \\\n",
       "0    1     1        0    0.1            1               0        0   \n",
       "1    1     1        0    0.2            1               0        0   \n",
       "2    1     2        0    0.2            2               0        0   \n",
       "3    1     2        0    0.3            2               0        0   \n",
       "4    1     2        0    0.4            2               0        0   \n",
       "\n",
       "   non-striker  total  \n",
       "0            0    222  \n",
       "1            0    222  \n",
       "2            0    222  \n",
       "3            0    222  \n",
       "4            0    222  "
      ]
     },
     "execution_count": 7,
     "metadata": {},
     "output_type": "execute_result"
    }
   ],
   "source": [
    "#Numerical Columns\n",
    "num_columns=df.select_dtypes(exclude='object')\n",
    "num_columns.head()"
   ]
  },
  {
   "cell_type": "code",
   "execution_count": 8,
   "metadata": {},
   "outputs": [],
   "source": [
    "# Keeping only consistent teams\n",
    "consistent_teams = ['Kolkata Knight Riders', 'Chennai Super Kings', 'Rajasthan Royals',\n",
    "                    'Mumbai Indians', 'Kings XI Punjab', 'Royal Challengers Bangalore',\n",
    "                    'Delhi Daredevils', 'Sunrisers Hyderabad']"
   ]
  },
  {
   "cell_type": "code",
   "execution_count": 9,
   "metadata": {},
   "outputs": [],
   "source": [
    "df = df[(df['bat_team'].isin(consistent_teams)) & (df['bowl_team'].isin(consistent_teams))]"
   ]
  },
  {
   "cell_type": "code",
   "execution_count": 10,
   "metadata": {},
   "outputs": [],
   "source": [
    "# Removing the first 5 overs data in every match\n",
    "df = df[df['overs']>=5.0]"
   ]
  },
  {
   "cell_type": "code",
   "execution_count": 11,
   "metadata": {},
   "outputs": [],
   "source": [
    "# Converting the column 'date' from string into datetime object\n",
    "from datetime import datetime\n",
    "df['date'] = df['date'].apply(lambda x: datetime.strptime(x, '%Y-%m-%d'))"
   ]
  },
  {
   "cell_type": "code",
   "execution_count": 12,
   "metadata": {},
   "outputs": [],
   "source": [
    "# --- Data Preprocessing ---\n",
    "# Converting categorical features using OneHotEncoding method\n",
    "encoded_df = pd.get_dummies(data=df, columns=['bat_team', 'bowl_team'],drop_first=True)"
   ]
  },
  {
   "cell_type": "code",
   "execution_count": 13,
   "metadata": {},
   "outputs": [
    {
     "data": {
      "text/html": [
       "<div>\n",
       "<style scoped>\n",
       "    .dataframe tbody tr th:only-of-type {\n",
       "        vertical-align: middle;\n",
       "    }\n",
       "\n",
       "    .dataframe tbody tr th {\n",
       "        vertical-align: top;\n",
       "    }\n",
       "\n",
       "    .dataframe thead th {\n",
       "        text-align: right;\n",
       "    }\n",
       "</style>\n",
       "<table border=\"1\" class=\"dataframe\">\n",
       "  <thead>\n",
       "    <tr style=\"text-align: right;\">\n",
       "      <th></th>\n",
       "      <th>mid</th>\n",
       "      <th>date</th>\n",
       "      <th>venue</th>\n",
       "      <th>batsman</th>\n",
       "      <th>bowler</th>\n",
       "      <th>runs</th>\n",
       "      <th>wickets</th>\n",
       "      <th>overs</th>\n",
       "      <th>runs_last_5</th>\n",
       "      <th>wickets_last_5</th>\n",
       "      <th>...</th>\n",
       "      <th>bat_team_Rajasthan Royals</th>\n",
       "      <th>bat_team_Royal Challengers Bangalore</th>\n",
       "      <th>bat_team_Sunrisers Hyderabad</th>\n",
       "      <th>bowl_team_Delhi Daredevils</th>\n",
       "      <th>bowl_team_Kings XI Punjab</th>\n",
       "      <th>bowl_team_Kolkata Knight Riders</th>\n",
       "      <th>bowl_team_Mumbai Indians</th>\n",
       "      <th>bowl_team_Rajasthan Royals</th>\n",
       "      <th>bowl_team_Royal Challengers Bangalore</th>\n",
       "      <th>bowl_team_Sunrisers Hyderabad</th>\n",
       "    </tr>\n",
       "  </thead>\n",
       "  <tbody>\n",
       "    <tr>\n",
       "      <td>32</td>\n",
       "      <td>1</td>\n",
       "      <td>2008-04-18</td>\n",
       "      <td>M Chinnaswamy Stadium</td>\n",
       "      <td>BB McCullum</td>\n",
       "      <td>Z Khan</td>\n",
       "      <td>61</td>\n",
       "      <td>0</td>\n",
       "      <td>5.1</td>\n",
       "      <td>59</td>\n",
       "      <td>0</td>\n",
       "      <td>...</td>\n",
       "      <td>0</td>\n",
       "      <td>0</td>\n",
       "      <td>0</td>\n",
       "      <td>0</td>\n",
       "      <td>0</td>\n",
       "      <td>0</td>\n",
       "      <td>0</td>\n",
       "      <td>0</td>\n",
       "      <td>1</td>\n",
       "      <td>0</td>\n",
       "    </tr>\n",
       "    <tr>\n",
       "      <td>33</td>\n",
       "      <td>1</td>\n",
       "      <td>2008-04-18</td>\n",
       "      <td>M Chinnaswamy Stadium</td>\n",
       "      <td>SC Ganguly</td>\n",
       "      <td>Z Khan</td>\n",
       "      <td>61</td>\n",
       "      <td>1</td>\n",
       "      <td>5.2</td>\n",
       "      <td>59</td>\n",
       "      <td>1</td>\n",
       "      <td>...</td>\n",
       "      <td>0</td>\n",
       "      <td>0</td>\n",
       "      <td>0</td>\n",
       "      <td>0</td>\n",
       "      <td>0</td>\n",
       "      <td>0</td>\n",
       "      <td>0</td>\n",
       "      <td>0</td>\n",
       "      <td>1</td>\n",
       "      <td>0</td>\n",
       "    </tr>\n",
       "    <tr>\n",
       "      <td>34</td>\n",
       "      <td>1</td>\n",
       "      <td>2008-04-18</td>\n",
       "      <td>M Chinnaswamy Stadium</td>\n",
       "      <td>RT Ponting</td>\n",
       "      <td>Z Khan</td>\n",
       "      <td>61</td>\n",
       "      <td>1</td>\n",
       "      <td>5.3</td>\n",
       "      <td>59</td>\n",
       "      <td>1</td>\n",
       "      <td>...</td>\n",
       "      <td>0</td>\n",
       "      <td>0</td>\n",
       "      <td>0</td>\n",
       "      <td>0</td>\n",
       "      <td>0</td>\n",
       "      <td>0</td>\n",
       "      <td>0</td>\n",
       "      <td>0</td>\n",
       "      <td>1</td>\n",
       "      <td>0</td>\n",
       "    </tr>\n",
       "    <tr>\n",
       "      <td>35</td>\n",
       "      <td>1</td>\n",
       "      <td>2008-04-18</td>\n",
       "      <td>M Chinnaswamy Stadium</td>\n",
       "      <td>RT Ponting</td>\n",
       "      <td>Z Khan</td>\n",
       "      <td>61</td>\n",
       "      <td>1</td>\n",
       "      <td>5.4</td>\n",
       "      <td>59</td>\n",
       "      <td>1</td>\n",
       "      <td>...</td>\n",
       "      <td>0</td>\n",
       "      <td>0</td>\n",
       "      <td>0</td>\n",
       "      <td>0</td>\n",
       "      <td>0</td>\n",
       "      <td>0</td>\n",
       "      <td>0</td>\n",
       "      <td>0</td>\n",
       "      <td>1</td>\n",
       "      <td>0</td>\n",
       "    </tr>\n",
       "    <tr>\n",
       "      <td>36</td>\n",
       "      <td>1</td>\n",
       "      <td>2008-04-18</td>\n",
       "      <td>M Chinnaswamy Stadium</td>\n",
       "      <td>RT Ponting</td>\n",
       "      <td>Z Khan</td>\n",
       "      <td>61</td>\n",
       "      <td>1</td>\n",
       "      <td>5.5</td>\n",
       "      <td>58</td>\n",
       "      <td>1</td>\n",
       "      <td>...</td>\n",
       "      <td>0</td>\n",
       "      <td>0</td>\n",
       "      <td>0</td>\n",
       "      <td>0</td>\n",
       "      <td>0</td>\n",
       "      <td>0</td>\n",
       "      <td>0</td>\n",
       "      <td>0</td>\n",
       "      <td>1</td>\n",
       "      <td>0</td>\n",
       "    </tr>\n",
       "  </tbody>\n",
       "</table>\n",
       "<p>5 rows × 27 columns</p>\n",
       "</div>"
      ],
      "text/plain": [
       "    mid       date                  venue      batsman  bowler  runs  wickets  \\\n",
       "32    1 2008-04-18  M Chinnaswamy Stadium  BB McCullum  Z Khan    61        0   \n",
       "33    1 2008-04-18  M Chinnaswamy Stadium   SC Ganguly  Z Khan    61        1   \n",
       "34    1 2008-04-18  M Chinnaswamy Stadium   RT Ponting  Z Khan    61        1   \n",
       "35    1 2008-04-18  M Chinnaswamy Stadium   RT Ponting  Z Khan    61        1   \n",
       "36    1 2008-04-18  M Chinnaswamy Stadium   RT Ponting  Z Khan    61        1   \n",
       "\n",
       "    overs  runs_last_5  wickets_last_5  ...  bat_team_Rajasthan Royals  \\\n",
       "32    5.1           59               0  ...                          0   \n",
       "33    5.2           59               1  ...                          0   \n",
       "34    5.3           59               1  ...                          0   \n",
       "35    5.4           59               1  ...                          0   \n",
       "36    5.5           58               1  ...                          0   \n",
       "\n",
       "    bat_team_Royal Challengers Bangalore  bat_team_Sunrisers Hyderabad  \\\n",
       "32                                     0                             0   \n",
       "33                                     0                             0   \n",
       "34                                     0                             0   \n",
       "35                                     0                             0   \n",
       "36                                     0                             0   \n",
       "\n",
       "    bowl_team_Delhi Daredevils  bowl_team_Kings XI Punjab  \\\n",
       "32                           0                          0   \n",
       "33                           0                          0   \n",
       "34                           0                          0   \n",
       "35                           0                          0   \n",
       "36                           0                          0   \n",
       "\n",
       "    bowl_team_Kolkata Knight Riders  bowl_team_Mumbai Indians  \\\n",
       "32                                0                         0   \n",
       "33                                0                         0   \n",
       "34                                0                         0   \n",
       "35                                0                         0   \n",
       "36                                0                         0   \n",
       "\n",
       "    bowl_team_Rajasthan Royals  bowl_team_Royal Challengers Bangalore  \\\n",
       "32                           0                                      1   \n",
       "33                           0                                      1   \n",
       "34                           0                                      1   \n",
       "35                           0                                      1   \n",
       "36                           0                                      1   \n",
       "\n",
       "    bowl_team_Sunrisers Hyderabad  \n",
       "32                              0  \n",
       "33                              0  \n",
       "34                              0  \n",
       "35                              0  \n",
       "36                              0  \n",
       "\n",
       "[5 rows x 27 columns]"
      ]
     },
     "execution_count": 13,
     "metadata": {},
     "output_type": "execute_result"
    }
   ],
   "source": [
    "encoded_df.head()"
   ]
  },
  {
   "cell_type": "code",
   "execution_count": 14,
   "metadata": {},
   "outputs": [],
   "source": [
    "# Dropping Unwanted Features\n",
    "encoded_df.drop(['mid','striker','non-striker','batsman','bowler','venue'],axis=1,inplace=True)"
   ]
  },
  {
   "cell_type": "code",
   "execution_count": 15,
   "metadata": {},
   "outputs": [
    {
     "data": {
      "text/html": [
       "<div>\n",
       "<style scoped>\n",
       "    .dataframe tbody tr th:only-of-type {\n",
       "        vertical-align: middle;\n",
       "    }\n",
       "\n",
       "    .dataframe tbody tr th {\n",
       "        vertical-align: top;\n",
       "    }\n",
       "\n",
       "    .dataframe thead th {\n",
       "        text-align: right;\n",
       "    }\n",
       "</style>\n",
       "<table border=\"1\" class=\"dataframe\">\n",
       "  <thead>\n",
       "    <tr style=\"text-align: right;\">\n",
       "      <th></th>\n",
       "      <th>date</th>\n",
       "      <th>runs</th>\n",
       "      <th>wickets</th>\n",
       "      <th>overs</th>\n",
       "      <th>runs_last_5</th>\n",
       "      <th>wickets_last_5</th>\n",
       "      <th>total</th>\n",
       "      <th>bat_team_Delhi Daredevils</th>\n",
       "      <th>bat_team_Kings XI Punjab</th>\n",
       "      <th>bat_team_Kolkata Knight Riders</th>\n",
       "      <th>...</th>\n",
       "      <th>bat_team_Rajasthan Royals</th>\n",
       "      <th>bat_team_Royal Challengers Bangalore</th>\n",
       "      <th>bat_team_Sunrisers Hyderabad</th>\n",
       "      <th>bowl_team_Delhi Daredevils</th>\n",
       "      <th>bowl_team_Kings XI Punjab</th>\n",
       "      <th>bowl_team_Kolkata Knight Riders</th>\n",
       "      <th>bowl_team_Mumbai Indians</th>\n",
       "      <th>bowl_team_Rajasthan Royals</th>\n",
       "      <th>bowl_team_Royal Challengers Bangalore</th>\n",
       "      <th>bowl_team_Sunrisers Hyderabad</th>\n",
       "    </tr>\n",
       "  </thead>\n",
       "  <tbody>\n",
       "    <tr>\n",
       "      <td>32</td>\n",
       "      <td>2008-04-18</td>\n",
       "      <td>61</td>\n",
       "      <td>0</td>\n",
       "      <td>5.1</td>\n",
       "      <td>59</td>\n",
       "      <td>0</td>\n",
       "      <td>222</td>\n",
       "      <td>0</td>\n",
       "      <td>0</td>\n",
       "      <td>1</td>\n",
       "      <td>...</td>\n",
       "      <td>0</td>\n",
       "      <td>0</td>\n",
       "      <td>0</td>\n",
       "      <td>0</td>\n",
       "      <td>0</td>\n",
       "      <td>0</td>\n",
       "      <td>0</td>\n",
       "      <td>0</td>\n",
       "      <td>1</td>\n",
       "      <td>0</td>\n",
       "    </tr>\n",
       "    <tr>\n",
       "      <td>33</td>\n",
       "      <td>2008-04-18</td>\n",
       "      <td>61</td>\n",
       "      <td>1</td>\n",
       "      <td>5.2</td>\n",
       "      <td>59</td>\n",
       "      <td>1</td>\n",
       "      <td>222</td>\n",
       "      <td>0</td>\n",
       "      <td>0</td>\n",
       "      <td>1</td>\n",
       "      <td>...</td>\n",
       "      <td>0</td>\n",
       "      <td>0</td>\n",
       "      <td>0</td>\n",
       "      <td>0</td>\n",
       "      <td>0</td>\n",
       "      <td>0</td>\n",
       "      <td>0</td>\n",
       "      <td>0</td>\n",
       "      <td>1</td>\n",
       "      <td>0</td>\n",
       "    </tr>\n",
       "    <tr>\n",
       "      <td>34</td>\n",
       "      <td>2008-04-18</td>\n",
       "      <td>61</td>\n",
       "      <td>1</td>\n",
       "      <td>5.3</td>\n",
       "      <td>59</td>\n",
       "      <td>1</td>\n",
       "      <td>222</td>\n",
       "      <td>0</td>\n",
       "      <td>0</td>\n",
       "      <td>1</td>\n",
       "      <td>...</td>\n",
       "      <td>0</td>\n",
       "      <td>0</td>\n",
       "      <td>0</td>\n",
       "      <td>0</td>\n",
       "      <td>0</td>\n",
       "      <td>0</td>\n",
       "      <td>0</td>\n",
       "      <td>0</td>\n",
       "      <td>1</td>\n",
       "      <td>0</td>\n",
       "    </tr>\n",
       "    <tr>\n",
       "      <td>35</td>\n",
       "      <td>2008-04-18</td>\n",
       "      <td>61</td>\n",
       "      <td>1</td>\n",
       "      <td>5.4</td>\n",
       "      <td>59</td>\n",
       "      <td>1</td>\n",
       "      <td>222</td>\n",
       "      <td>0</td>\n",
       "      <td>0</td>\n",
       "      <td>1</td>\n",
       "      <td>...</td>\n",
       "      <td>0</td>\n",
       "      <td>0</td>\n",
       "      <td>0</td>\n",
       "      <td>0</td>\n",
       "      <td>0</td>\n",
       "      <td>0</td>\n",
       "      <td>0</td>\n",
       "      <td>0</td>\n",
       "      <td>1</td>\n",
       "      <td>0</td>\n",
       "    </tr>\n",
       "    <tr>\n",
       "      <td>36</td>\n",
       "      <td>2008-04-18</td>\n",
       "      <td>61</td>\n",
       "      <td>1</td>\n",
       "      <td>5.5</td>\n",
       "      <td>58</td>\n",
       "      <td>1</td>\n",
       "      <td>222</td>\n",
       "      <td>0</td>\n",
       "      <td>0</td>\n",
       "      <td>1</td>\n",
       "      <td>...</td>\n",
       "      <td>0</td>\n",
       "      <td>0</td>\n",
       "      <td>0</td>\n",
       "      <td>0</td>\n",
       "      <td>0</td>\n",
       "      <td>0</td>\n",
       "      <td>0</td>\n",
       "      <td>0</td>\n",
       "      <td>1</td>\n",
       "      <td>0</td>\n",
       "    </tr>\n",
       "  </tbody>\n",
       "</table>\n",
       "<p>5 rows × 21 columns</p>\n",
       "</div>"
      ],
      "text/plain": [
       "         date  runs  wickets  overs  runs_last_5  wickets_last_5  total  \\\n",
       "32 2008-04-18    61        0    5.1           59               0    222   \n",
       "33 2008-04-18    61        1    5.2           59               1    222   \n",
       "34 2008-04-18    61        1    5.3           59               1    222   \n",
       "35 2008-04-18    61        1    5.4           59               1    222   \n",
       "36 2008-04-18    61        1    5.5           58               1    222   \n",
       "\n",
       "    bat_team_Delhi Daredevils  bat_team_Kings XI Punjab  \\\n",
       "32                          0                         0   \n",
       "33                          0                         0   \n",
       "34                          0                         0   \n",
       "35                          0                         0   \n",
       "36                          0                         0   \n",
       "\n",
       "    bat_team_Kolkata Knight Riders  ...  bat_team_Rajasthan Royals  \\\n",
       "32                               1  ...                          0   \n",
       "33                               1  ...                          0   \n",
       "34                               1  ...                          0   \n",
       "35                               1  ...                          0   \n",
       "36                               1  ...                          0   \n",
       "\n",
       "    bat_team_Royal Challengers Bangalore  bat_team_Sunrisers Hyderabad  \\\n",
       "32                                     0                             0   \n",
       "33                                     0                             0   \n",
       "34                                     0                             0   \n",
       "35                                     0                             0   \n",
       "36                                     0                             0   \n",
       "\n",
       "    bowl_team_Delhi Daredevils  bowl_team_Kings XI Punjab  \\\n",
       "32                           0                          0   \n",
       "33                           0                          0   \n",
       "34                           0                          0   \n",
       "35                           0                          0   \n",
       "36                           0                          0   \n",
       "\n",
       "    bowl_team_Kolkata Knight Riders  bowl_team_Mumbai Indians  \\\n",
       "32                                0                         0   \n",
       "33                                0                         0   \n",
       "34                                0                         0   \n",
       "35                                0                         0   \n",
       "36                                0                         0   \n",
       "\n",
       "    bowl_team_Rajasthan Royals  bowl_team_Royal Challengers Bangalore  \\\n",
       "32                           0                                      1   \n",
       "33                           0                                      1   \n",
       "34                           0                                      1   \n",
       "35                           0                                      1   \n",
       "36                           0                                      1   \n",
       "\n",
       "    bowl_team_Sunrisers Hyderabad  \n",
       "32                              0  \n",
       "33                              0  \n",
       "34                              0  \n",
       "35                              0  \n",
       "36                              0  \n",
       "\n",
       "[5 rows x 21 columns]"
      ]
     },
     "execution_count": 15,
     "metadata": {},
     "output_type": "execute_result"
    }
   ],
   "source": [
    "encoded_df.head()"
   ]
  },
  {
   "cell_type": "markdown",
   "metadata": {},
   "source": [
    "### Train Test Split"
   ]
  },
  {
   "cell_type": "code",
   "execution_count": 16,
   "metadata": {},
   "outputs": [],
   "source": [
    "# Splitting the data into train and test set\n",
    "X_train = encoded_df.drop(labels='total', axis=1)[encoded_df['date'].dt.year <= 2016]\n",
    "X_test = encoded_df.drop(labels='total', axis=1)[encoded_df['date'].dt.year >= 2017]"
   ]
  },
  {
   "cell_type": "code",
   "execution_count": 17,
   "metadata": {},
   "outputs": [],
   "source": [
    "y_train = encoded_df[encoded_df['date'].dt.year <= 2016]['total'].values\n",
    "y_test = encoded_df[encoded_df['date'].dt.year >= 2017]['total'].values"
   ]
  },
  {
   "cell_type": "code",
   "execution_count": 18,
   "metadata": {},
   "outputs": [],
   "source": [
    "# Removing the 'date' column\n",
    "X_train.drop(labels='date', axis=True, inplace=True)\n",
    "X_test.drop(labels='date', axis=True, inplace=True)"
   ]
  },
  {
   "cell_type": "markdown",
   "metadata": {},
   "source": [
    "### Feature Importance"
   ]
  },
  {
   "cell_type": "code",
   "execution_count": 19,
   "metadata": {},
   "outputs": [
    {
     "name": "stdout",
     "output_type": "stream",
     "text": [
      "[0.23779311 0.21031399 0.07894429 0.2077121  0.03784623 0.01545576\n",
      " 0.01763302 0.01518321 0.01968867 0.01598686 0.01788068 0.01158754\n",
      " 0.0156435  0.01687436 0.01567487 0.01753277 0.01821802 0.01672138\n",
      " 0.01330963]\n"
     ]
    }
   ],
   "source": [
    "model = ExtraTreesRegressor()\n",
    "model.fit(X_train,y_train)\n",
    "print(model.feature_importances_)"
   ]
  },
  {
   "cell_type": "code",
   "execution_count": 20,
   "metadata": {},
   "outputs": [
    {
     "data": {
      "text/html": [
       "<div>\n",
       "<style scoped>\n",
       "    .dataframe tbody tr th:only-of-type {\n",
       "        vertical-align: middle;\n",
       "    }\n",
       "\n",
       "    .dataframe tbody tr th {\n",
       "        vertical-align: top;\n",
       "    }\n",
       "\n",
       "    .dataframe thead th {\n",
       "        text-align: right;\n",
       "    }\n",
       "</style>\n",
       "<table border=\"1\" class=\"dataframe\">\n",
       "  <thead>\n",
       "    <tr style=\"text-align: right;\">\n",
       "      <th></th>\n",
       "      <th>feature_importances</th>\n",
       "    </tr>\n",
       "  </thead>\n",
       "  <tbody>\n",
       "    <tr>\n",
       "      <td>runs</td>\n",
       "      <td>0.237793</td>\n",
       "    </tr>\n",
       "    <tr>\n",
       "      <td>wickets</td>\n",
       "      <td>0.210314</td>\n",
       "    </tr>\n",
       "    <tr>\n",
       "      <td>overs</td>\n",
       "      <td>0.078944</td>\n",
       "    </tr>\n",
       "    <tr>\n",
       "      <td>runs_last_5</td>\n",
       "      <td>0.207712</td>\n",
       "    </tr>\n",
       "    <tr>\n",
       "      <td>wickets_last_5</td>\n",
       "      <td>0.037846</td>\n",
       "    </tr>\n",
       "    <tr>\n",
       "      <td>bat_team_Delhi Daredevils</td>\n",
       "      <td>0.015456</td>\n",
       "    </tr>\n",
       "    <tr>\n",
       "      <td>bat_team_Kings XI Punjab</td>\n",
       "      <td>0.017633</td>\n",
       "    </tr>\n",
       "    <tr>\n",
       "      <td>bat_team_Kolkata Knight Riders</td>\n",
       "      <td>0.015183</td>\n",
       "    </tr>\n",
       "    <tr>\n",
       "      <td>bat_team_Mumbai Indians</td>\n",
       "      <td>0.019689</td>\n",
       "    </tr>\n",
       "    <tr>\n",
       "      <td>bat_team_Rajasthan Royals</td>\n",
       "      <td>0.015987</td>\n",
       "    </tr>\n",
       "    <tr>\n",
       "      <td>bat_team_Royal Challengers Bangalore</td>\n",
       "      <td>0.017881</td>\n",
       "    </tr>\n",
       "    <tr>\n",
       "      <td>bat_team_Sunrisers Hyderabad</td>\n",
       "      <td>0.011588</td>\n",
       "    </tr>\n",
       "    <tr>\n",
       "      <td>bowl_team_Delhi Daredevils</td>\n",
       "      <td>0.015643</td>\n",
       "    </tr>\n",
       "    <tr>\n",
       "      <td>bowl_team_Kings XI Punjab</td>\n",
       "      <td>0.016874</td>\n",
       "    </tr>\n",
       "    <tr>\n",
       "      <td>bowl_team_Kolkata Knight Riders</td>\n",
       "      <td>0.015675</td>\n",
       "    </tr>\n",
       "    <tr>\n",
       "      <td>bowl_team_Mumbai Indians</td>\n",
       "      <td>0.017533</td>\n",
       "    </tr>\n",
       "    <tr>\n",
       "      <td>bowl_team_Rajasthan Royals</td>\n",
       "      <td>0.018218</td>\n",
       "    </tr>\n",
       "    <tr>\n",
       "      <td>bowl_team_Royal Challengers Bangalore</td>\n",
       "      <td>0.016721</td>\n",
       "    </tr>\n",
       "    <tr>\n",
       "      <td>bowl_team_Sunrisers Hyderabad</td>\n",
       "      <td>0.013310</td>\n",
       "    </tr>\n",
       "  </tbody>\n",
       "</table>\n",
       "</div>"
      ],
      "text/plain": [
       "                                       feature_importances\n",
       "runs                                              0.237793\n",
       "wickets                                           0.210314\n",
       "overs                                             0.078944\n",
       "runs_last_5                                       0.207712\n",
       "wickets_last_5                                    0.037846\n",
       "bat_team_Delhi Daredevils                         0.015456\n",
       "bat_team_Kings XI Punjab                          0.017633\n",
       "bat_team_Kolkata Knight Riders                    0.015183\n",
       "bat_team_Mumbai Indians                           0.019689\n",
       "bat_team_Rajasthan Royals                         0.015987\n",
       "bat_team_Royal Challengers Bangalore              0.017881\n",
       "bat_team_Sunrisers Hyderabad                      0.011588\n",
       "bowl_team_Delhi Daredevils                        0.015643\n",
       "bowl_team_Kings XI Punjab                         0.016874\n",
       "bowl_team_Kolkata Knight Riders                   0.015675\n",
       "bowl_team_Mumbai Indians                          0.017533\n",
       "bowl_team_Rajasthan Royals                        0.018218\n",
       "bowl_team_Royal Challengers Bangalore             0.016721\n",
       "bowl_team_Sunrisers Hyderabad                     0.013310"
      ]
     },
     "execution_count": 20,
     "metadata": {},
     "output_type": "execute_result"
    }
   ],
   "source": [
    "feature_importances_df = pd.DataFrame(model.feature_importances_,X_train.columns,columns=['feature_importances'])\n",
    "feature_importances_df"
   ]
  },
  {
   "cell_type": "code",
   "execution_count": 21,
   "metadata": {},
   "outputs": [
    {
     "data": {
      "image/png": "[encoded data removed]",
      "text/plain": [
       "<Figure size 432x288 with 1 Axes>"
      ]
     },
     "metadata": {
      "needs_background": "light"
     },
     "output_type": "display_data"
    }
   ],
   "source": [
    "#plot graph of feature importances for better visualization\n",
    "feat_importances = pd.Series(model.feature_importances_, index=X_train.columns)\n",
    "feat_importances.nlargest(10).plot(kind='barh')\n",
    "plt.show()"
   ]
  },
  {
   "cell_type": "markdown",
   "metadata": {},
   "source": [
    "### Model Selection"
   ]
  },
  {
   "cell_type": "code",
   "execution_count": 22,
   "metadata": {},
   "outputs": [
    {
     "data": {
      "text/plain": [
       "LinearRegression()"
      ]
     },
     "execution_count": 22,
     "metadata": {},
     "output_type": "execute_result"
    }
   ],
   "source": [
    "regressor=LinearRegression()\n",
    "regressor.fit(X_train,y_train)"
   ]
  },
  {
   "cell_type": "code",
   "execution_count": 23,
   "metadata": {},
   "outputs": [
    {
     "data": {
      "text/plain": [
       "array([ 0.96320203, -4.88540989, -6.37127207, -0.01670462, -1.1550842 ,\n",
       "       -3.34155756, -0.50012612, -4.03968974,  1.78087688, -4.78579621,\n",
       "        2.77354374, -0.49947491,  0.71900971,  1.47846531, -3.49735427,\n",
       "        0.05880882,  0.15679319,  0.55434596, -0.55004596])"
      ]
     },
     "execution_count": 23,
     "metadata": {},
     "output_type": "execute_result"
    }
   ],
   "source": [
    "regressor.coef_"
   ]
  },
  {
   "cell_type": "code",
   "execution_count": 24,
   "metadata": {},
   "outputs": [
    {
     "data": {
      "text/plain": [
       "166.94434584211984"
      ]
     },
     "execution_count": 24,
     "metadata": {},
     "output_type": "execute_result"
    }
   ],
   "source": [
    "regressor.intercept_"
   ]
  },
  {
   "cell_type": "code",
   "execution_count": 25,
   "metadata": {},
   "outputs": [
    {
     "name": "stdout",
     "output_type": "stream",
     "text": [
      "Coefficient of determination R^2 <-- on train set: 0.6502133812161469\n",
      "Coefficient of determination R^2 <-- on test set: 0.7522633566350542\n"
     ]
    }
   ],
   "source": [
    "print(\"Coefficient of determination R^2 <-- on train set: {}\".format(regressor.score(X_train, y_train)))\n",
    "print(\"Coefficient of determination R^2 <-- on test set: {}\".format(regressor.score(X_test, y_test)))"
   ]
  },
  {
   "cell_type": "code",
   "execution_count": 26,
   "metadata": {},
   "outputs": [
    {
     "data": {
      "text/plain": [
       "0.6136346337412372"
      ]
     },
     "execution_count": 26,
     "metadata": {},
     "output_type": "execute_result"
    }
   ],
   "source": [
    "score=cross_val_score(regressor,X_train, y_train,cv=5)\n",
    "score.mean()"
   ]
  },
  {
   "cell_type": "markdown",
   "metadata": {},
   "source": [
    "### Model Evaluation"
   ]
  },
  {
   "cell_type": "code",
   "execution_count": 27,
   "metadata": {},
   "outputs": [
    {
     "data": {
      "text/html": [
       "<div>\n",
       "<style scoped>\n",
       "    .dataframe tbody tr th:only-of-type {\n",
       "        vertical-align: middle;\n",
       "    }\n",
       "\n",
       "    .dataframe tbody tr th {\n",
       "        vertical-align: top;\n",
       "    }\n",
       "\n",
       "    .dataframe thead th {\n",
       "        text-align: right;\n",
       "    }\n",
       "</style>\n",
       "<table border=\"1\" class=\"dataframe\">\n",
       "  <thead>\n",
       "    <tr style=\"text-align: right;\">\n",
       "      <th></th>\n",
       "      <th>Coefficient</th>\n",
       "    </tr>\n",
       "  </thead>\n",
       "  <tbody>\n",
       "    <tr>\n",
       "      <td>runs</td>\n",
       "      <td>0.963202</td>\n",
       "    </tr>\n",
       "    <tr>\n",
       "      <td>wickets</td>\n",
       "      <td>-4.885410</td>\n",
       "    </tr>\n",
       "    <tr>\n",
       "      <td>overs</td>\n",
       "      <td>-6.371272</td>\n",
       "    </tr>\n",
       "    <tr>\n",
       "      <td>runs_last_5</td>\n",
       "      <td>-0.016705</td>\n",
       "    </tr>\n",
       "    <tr>\n",
       "      <td>wickets_last_5</td>\n",
       "      <td>-1.155084</td>\n",
       "    </tr>\n",
       "    <tr>\n",
       "      <td>bat_team_Delhi Daredevils</td>\n",
       "      <td>-3.341558</td>\n",
       "    </tr>\n",
       "    <tr>\n",
       "      <td>bat_team_Kings XI Punjab</td>\n",
       "      <td>-0.500126</td>\n",
       "    </tr>\n",
       "    <tr>\n",
       "      <td>bat_team_Kolkata Knight Riders</td>\n",
       "      <td>-4.039690</td>\n",
       "    </tr>\n",
       "    <tr>\n",
       "      <td>bat_team_Mumbai Indians</td>\n",
       "      <td>1.780877</td>\n",
       "    </tr>\n",
       "    <tr>\n",
       "      <td>bat_team_Rajasthan Royals</td>\n",
       "      <td>-4.785796</td>\n",
       "    </tr>\n",
       "    <tr>\n",
       "      <td>bat_team_Royal Challengers Bangalore</td>\n",
       "      <td>2.773544</td>\n",
       "    </tr>\n",
       "    <tr>\n",
       "      <td>bat_team_Sunrisers Hyderabad</td>\n",
       "      <td>-0.499475</td>\n",
       "    </tr>\n",
       "    <tr>\n",
       "      <td>bowl_team_Delhi Daredevils</td>\n",
       "      <td>0.719010</td>\n",
       "    </tr>\n",
       "    <tr>\n",
       "      <td>bowl_team_Kings XI Punjab</td>\n",
       "      <td>1.478465</td>\n",
       "    </tr>\n",
       "    <tr>\n",
       "      <td>bowl_team_Kolkata Knight Riders</td>\n",
       "      <td>-3.497354</td>\n",
       "    </tr>\n",
       "    <tr>\n",
       "      <td>bowl_team_Mumbai Indians</td>\n",
       "      <td>0.058809</td>\n",
       "    </tr>\n",
       "    <tr>\n",
       "      <td>bowl_team_Rajasthan Royals</td>\n",
       "      <td>0.156793</td>\n",
       "    </tr>\n",
       "    <tr>\n",
       "      <td>bowl_team_Royal Challengers Bangalore</td>\n",
       "      <td>0.554346</td>\n",
       "    </tr>\n",
       "    <tr>\n",
       "      <td>bowl_team_Sunrisers Hyderabad</td>\n",
       "      <td>-0.550046</td>\n",
       "    </tr>\n",
       "  </tbody>\n",
       "</table>\n",
       "</div>"
      ],
      "text/plain": [
       "                                       Coefficient\n",
       "runs                                      0.963202\n",
       "wickets                                  -4.885410\n",
       "overs                                    -6.371272\n",
       "runs_last_5                              -0.016705\n",
       "wickets_last_5                           -1.155084\n",
       "bat_team_Delhi Daredevils                -3.341558\n",
       "bat_team_Kings XI Punjab                 -0.500126\n",
       "bat_team_Kolkata Knight Riders           -4.039690\n",
       "bat_team_Mumbai Indians                   1.780877\n",
       "bat_team_Rajasthan Royals                -4.785796\n",
       "bat_team_Royal Challengers Bangalore      2.773544\n",
       "bat_team_Sunrisers Hyderabad             -0.499475\n",
       "bowl_team_Delhi Daredevils                0.719010\n",
       "bowl_team_Kings XI Punjab                 1.478465\n",
       "bowl_team_Kolkata Knight Riders          -3.497354\n",
       "bowl_team_Mumbai Indians                  0.058809\n",
       "bowl_team_Rajasthan Royals                0.156793\n",
       "bowl_team_Royal Challengers Bangalore     0.554346\n",
       "bowl_team_Sunrisers Hyderabad            -0.550046"
      ]
     },
     "execution_count": 27,
     "metadata": {},
     "output_type": "execute_result"
    }
   ],
   "source": [
    "coeff_df = pd.DataFrame(regressor.coef_,X_train.columns,columns=['Coefficient'])\n",
    "coeff_df"
   ]
  },
  {
   "cell_type": "code",
   "execution_count": 28,
   "metadata": {},
   "outputs": [],
   "source": [
    "prediction=regressor.predict(X_test)"
   ]
  },
  {
   "cell_type": "code",
   "execution_count": 29,
   "metadata": {},
   "outputs": [
    {
     "data": {
      "application/javascript": [
       "\n",
       "        if (window._pyforest_update_imports_cell) { window._pyforest_update_imports_cell('import seaborn as sns'); }\n",
       "    "
      ],
      "text/plain": [
       "<IPython.core.display.Javascript object>"
      ]
     },
     "metadata": {},
     "output_type": "display_data"
    },
    {
     "data": {
      "text/plain": [
       "<matplotlib.axes._subplots.AxesSubplot at 0x214275d1b48>"
      ]
     },
     "execution_count": 29,
     "metadata": {},
     "output_type": "execute_result"
    },
    {
     "data": {
      "image/png": "[encoded data removed]",
      "text/plain": [
       "<Figure size 432x288 with 1 Axes>"
      ]
     },
     "metadata": {
      "needs_background": "light"
     },
     "output_type": "display_data"
    }
   ],
   "source": [
    "sns.distplot(y_test-prediction)"
   ]
  },
  {
   "cell_type": "code",
   "execution_count": 30,
   "metadata": {},
   "outputs": [
    {
     "data": {
      "text/plain": [
       "<matplotlib.collections.PathCollection at 0x2143470bac8>"
      ]
     },
     "execution_count": 30,
     "metadata": {},
     "output_type": "execute_result"
    },
    {
     "data": {
      "image/png": "[encoded data removed]",
      "text/plain": [
       "<Figure size 432x288 with 1 Axes>"
      ]
     },
     "metadata": {
      "needs_background": "light"
     },
     "output_type": "display_data"
    }
   ],
   "source": [
    "plt.scatter(y_test,prediction)"
   ]
  },
  {
   "cell_type": "code",
   "execution_count": 31,
   "metadata": {},
   "outputs": [
    {
     "name": "stdout",
     "output_type": "stream",
     "text": [
      "MAE: 12.118617546193239\n",
      "MSE: 251.00792310417287\n"
     ]
    },
    {
     "data": {
      "application/javascript": [
       "\n",
       "        if (window._pyforest_update_imports_cell) { window._pyforest_update_imports_cell('import numpy as np\\nimport seaborn as sns'); }\n",
       "    "
      ],
      "text/plain": [
       "<IPython.core.display.Javascript object>"
      ]
     },
     "metadata": {},
     "output_type": "display_data"
    },
    {
     "name": "stdout",
     "output_type": "stream",
     "text": [
      "RMSE: 15.843229566732058\n"
     ]
    }
   ],
   "source": [
    "print('MAE:', metrics.mean_absolute_error(y_test, prediction))\n",
    "print('MSE:', metrics.mean_squared_error(y_test, prediction))\n",
    "print('RMSE:', np.sqrt(metrics.mean_squared_error(y_test, prediction)))"
   ]
  },
  {
   "cell_type": "code",
   "execution_count": 32,
   "metadata": {},
   "outputs": [],
   "source": [
    "file = open('linear_regression_model.pkl', 'wb')\n",
    "#dump information to that file\n",
    "pickle.dump(regressor, file)"
   ]
  },
  {
   "cell_type": "code",
   "execution_count": null,
   "metadata": {},
   "outputs": [],
   "source": []
  }
 ],
 "metadata": {
  "kernelspec": {
   "display_name": "Python 3",
   "language": "python",
   "name": "python3"
  },
  "language_info": {
   "codemirror_mode": {
    "name": "ipython",
    "version": 3
   },
   "file_extension": ".py",
   "mimetype": "text/x-python",
   "name": "python",
   "nbconvert_exporter": "python",
   "pygments_lexer": "ipython3",
   "version": "3.7.4"
  }
 },
 "nbformat": 4,
 "nbformat_minor": 2
}
